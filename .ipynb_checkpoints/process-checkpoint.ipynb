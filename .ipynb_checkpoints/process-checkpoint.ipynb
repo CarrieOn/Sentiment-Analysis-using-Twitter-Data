{
 "cells": [
  {
   "cell_type": "code",
   "execution_count": 1,
   "metadata": {},
   "outputs": [],
   "source": [
    "import json\n",
    "import io"
   ]
  },
  {
   "cell_type": "code",
   "execution_count": 43,
   "metadata": {},
   "outputs": [],
   "source": [
    "ellen_tws_ids = re_20_list"
   ]
  },
  {
   "cell_type": "code",
   "execution_count": 55,
   "metadata": {},
   "outputs": [
    {
     "data": {
      "text/plain": [
       "73"
      ]
     },
     "execution_count": 55,
     "metadata": {},
     "output_type": "execute_result"
    }
   ],
   "source": [
    "len(ellen_tws_ids)"
   ]
  },
  {
   "cell_type": "code",
   "execution_count": 48,
   "metadata": {},
   "outputs": [],
   "source": [
    "trump_tws_ids = re_20_list"
   ]
  },
  {
   "cell_type": "code",
   "execution_count": 54,
   "metadata": {},
   "outputs": [
    {
     "data": {
      "text/plain": [
       "52"
      ]
     },
     "execution_count": 54,
     "metadata": {},
     "output_type": "execute_result"
    }
   ],
   "source": [
    "len(trump_tws_ids)"
   ]
  },
  {
   "cell_type": "code",
   "execution_count": 61,
   "metadata": {},
   "outputs": [],
   "source": [
    "JeffreeStar_tws_ids = re_20_list"
   ]
  },
  {
   "cell_type": "code",
   "execution_count": 62,
   "metadata": {},
   "outputs": [
    {
     "data": {
      "text/plain": [
       "46"
      ]
     },
     "execution_count": 62,
     "metadata": {},
     "output_type": "execute_result"
    }
   ],
   "source": [
    "len(JeffreeStar_tws_ids)"
   ]
  },
  {
   "cell_type": "code",
   "execution_count": 69,
   "metadata": {},
   "outputs": [],
   "source": [
    "KimKardashian_tws_ids = re_20_list"
   ]
  },
  {
   "cell_type": "code",
   "execution_count": 70,
   "metadata": {},
   "outputs": [
    {
     "data": {
      "text/plain": [
       "100"
      ]
     },
     "execution_count": 70,
     "metadata": {},
     "output_type": "execute_result"
    }
   ],
   "source": [
    "len(KimKardashian_tws_ids)"
   ]
  },
  {
   "cell_type": "code",
   "execution_count": 77,
   "metadata": {},
   "outputs": [],
   "source": [
    "KylieJenner_tws_ids = re_20_list"
   ]
  },
  {
   "cell_type": "code",
   "execution_count": 78,
   "metadata": {},
   "outputs": [
    {
     "data": {
      "text/plain": [
       "72"
      ]
     },
     "execution_count": 78,
     "metadata": {},
     "output_type": "execute_result"
    }
   ],
   "source": [
    "len(KylieJenner_tws_ids)"
   ]
  },
  {
   "cell_type": "code",
   "execution_count": 79,
   "metadata": {},
   "outputs": [],
   "source": [
    "fn_tws_ids = 'en_results/KylieJenner_tws_ids.txt'\n",
    "with open(fn_tws_ids, 'w') as fw:\n",
    "    for id in KylieJenner_tws_ids:\n",
    "        fw.write(\"%s\\n\" % id)"
   ]
  },
  {
   "cell_type": "code",
   "execution_count": 31,
   "metadata": {},
   "outputs": [],
   "source": [
    "fn = 'hi_origin_data/rep_smritiirani.json'"
   ]
  },
  {
   "cell_type": "code",
   "execution_count": 32,
   "metadata": {},
   "outputs": [
    {
     "data": {
      "text/plain": [
       "4885"
      ]
     },
     "execution_count": 32,
     "metadata": {},
     "output_type": "execute_result"
    }
   ],
   "source": [
    "with open(fn) as f_read:\n",
    "    data = json.load(f_read)\n",
    "len(data)"
   ]
  },
  {
   "cell_type": "code",
   "execution_count": 4,
   "metadata": {},
   "outputs": [
    {
     "name": "stdout",
     "output_type": "stream",
     "text": [
      "tws =  3\n",
      "cnt_re =  197\n",
      "len of re_20_reply =  197\n"
     ]
    }
   ],
   "source": [
    "dict_all_re = {}\n",
    "for reply in data:\n",
    "    key = reply['in_reply_to_status_id_str']\n",
    "\n",
    "    if key in dict_all_re:\n",
    "        dict_all_re[key] = dict_all_re[key] + 1\n",
    "    else:\n",
    "        dict_all_re[key] = 1\n",
    "\n",
    "\n",
    "cnt_re = 0\n",
    "tws = 0\n",
    "re_20_list = []\n",
    "for k,v in dict_all_re.items():\n",
    "    if v > 20:\n",
    "        cnt_re = cnt_re + v\n",
    "        tws = tws + 1\n",
    "        re_20_list.append(k)\n",
    "#         print(k, v)\n",
    "\n",
    "\n",
    "print(\"tws = \", tws)\n",
    "print(\"cnt_re = \", cnt_re)\n",
    "\n",
    "\n",
    "\n",
    "re_20_reply = []\n",
    "for reply in data:\n",
    "    key = reply['in_reply_to_status_id_str']\n",
    "    if key in re_20_list:\n",
    "        re_20_reply.append(reply)\n",
    "        \n",
    "print(\"len of re_20_reply = \", len(re_20_reply))"
   ]
  },
  {
   "cell_type": "code",
   "execution_count": 76,
   "metadata": {},
   "outputs": [
    {
     "data": {
      "text/plain": [
       "72"
      ]
     },
     "execution_count": 76,
     "metadata": {},
     "output_type": "execute_result"
    }
   ],
   "source": [
    "len(re_20_list)"
   ]
  },
  {
   "cell_type": "code",
   "execution_count": null,
   "metadata": {},
   "outputs": [],
   "source": []
  },
  {
   "cell_type": "code",
   "execution_count": null,
   "metadata": {},
   "outputs": [],
   "source": []
  },
  {
   "cell_type": "code",
   "execution_count": null,
   "metadata": {},
   "outputs": [],
   "source": []
  },
  {
   "cell_type": "code",
   "execution_count": 22,
   "metadata": {},
   "outputs": [],
   "source": []
  },
  {
   "cell_type": "code",
   "execution_count": 24,
   "metadata": {},
   "outputs": [],
   "source": []
  },
  {
   "cell_type": "code",
   "execution_count": null,
   "metadata": {},
   "outputs": [],
   "source": []
  },
  {
   "cell_type": "code",
   "execution_count": 2,
   "metadata": {},
   "outputs": [],
   "source": []
  },
  {
   "cell_type": "code",
   "execution_count": null,
   "metadata": {},
   "outputs": [],
   "source": []
  },
  {
   "cell_type": "code",
   "execution_count": 1,
   "metadata": {},
   "outputs": [],
   "source": []
  },
  {
   "cell_type": "code",
   "execution_count": 33,
   "metadata": {},
   "outputs": [
    {
     "name": "stdout",
     "output_type": "stream",
     "text": [
      "len of ids:  29\n"
     ]
    }
   ],
   "source": []
  },
  {
   "cell_type": "code",
   "execution_count": 34,
   "metadata": {},
   "outputs": [],
   "source": [
    "re_20_reply = []\n",
    "for reply in data:\n",
    "    key = reply['in_reply_to_status_id_str']\n",
    "    if key in re_20_list:\n",
    "        re_20_reply.append(reply)"
   ]
  },
  {
   "cell_type": "code",
   "execution_count": 35,
   "metadata": {},
   "outputs": [],
   "source": [
    "fn_replies_20 = 'hi/re_smritiirani.json'\n",
    "with io.open(fn_replies_20, 'w', encoding='utf8') as outfile:\n",
    "    json.dump(re_20_reply, outfile)"
   ]
  },
  {
   "cell_type": "code",
   "execution_count": null,
   "metadata": {},
   "outputs": [],
   "source": []
  },
  {
   "cell_type": "code",
   "execution_count": 41,
   "metadata": {},
   "outputs": [],
   "source": [
    "import tweepy\n",
    "import time\n",
    "\n",
    "keys_dict = {\n",
    "        'consumer_key':        'Qi35siyIf3Arx4UD7sR5ELTFz',\n",
    "        'consumer_secret':     '989HQ87fXwciNjJN50eBEUBXWLrKi2OslwnnYPzAHcwwghURxH',\n",
    "        'access_token_key':    '1166189801315459072-OiZQVuvE1U9sPWUjbl8NE25eIqWhPk',\n",
    "        'access_token_secret': 'IOpQZF8RZnNKclQqOUKtmLVtYClg3waMdSFQZznKqIhRT'\n",
    "    }\n",
    "\n",
    "auth = tweepy.OAuthHandler(keys_dict['consumer_key'], keys_dict['consumer_secret'])\n",
    "auth.set_access_token(keys_dict['access_token_key'], keys_dict['access_token_secret'])\n",
    "api = tweepy.API(auth)"
   ]
  },
  {
   "cell_type": "code",
   "execution_count": 63,
   "metadata": {},
   "outputs": [
    {
     "name": "stdout",
     "output_type": "stream",
     "text": [
      "len of ids:  52\n"
     ]
    }
   ],
   "source": [
    "fn_tws_ids = \"en/tws_ids_trump.txt\"\n",
    "with open(fn_tws_ids, 'r') as fr:\n",
    "    re_20_list = fr.read().splitlines()\n",
    "    \n",
    "print(\"len of ids: \", len(re_20_list))"
   ]
  },
  {
   "cell_type": "code",
   "execution_count": null,
   "metadata": {},
   "outputs": [],
   "source": []
  },
  {
   "cell_type": "code",
   "execution_count": null,
   "metadata": {},
   "outputs": [],
   "source": []
  },
  {
   "cell_type": "code",
   "execution_count": null,
   "metadata": {},
   "outputs": [],
   "source": []
  },
  {
   "cell_type": "code",
   "execution_count": 64,
   "metadata": {},
   "outputs": [
    {
     "name": "stdout",
     "output_type": "stream",
     "text": [
      "len of origin_tw:  0\n"
     ]
    }
   ],
   "source": [
    "origin_tw = []\n",
    "for id in re_20_list:\n",
    "    try:\n",
    "        tweet = api.get_status(k)\n",
    "    except:\n",
    "        continue\n",
    "    if tweet._json['lang'] != 'en':\n",
    "        continue\n",
    "    origin_tw.append(tweet._json)\n",
    "    \n",
    "print(\"len of origin_tw: \", len(origin_tw))"
   ]
  },
  {
   "cell_type": "code",
   "execution_count": 62,
   "metadata": {},
   "outputs": [],
   "source": [
    "fn_tws = 'en/tw_realDonaldTrump.json'\n",
    "with io.open(fn_tws, 'w', encoding='utf8') as outfile:\n",
    "    json.dump(origin_tw, outfile)"
   ]
  },
  {
   "cell_type": "code",
   "execution_count": null,
   "metadata": {},
   "outputs": [],
   "source": []
  }
 ],
 "metadata": {
  "kernelspec": {
   "display_name": "Python 3",
   "language": "python",
   "name": "python3"
  },
  "language_info": {
   "codemirror_mode": {
    "name": "ipython",
    "version": 3
   },
   "file_extension": ".py",
   "mimetype": "text/x-python",
   "name": "python",
   "nbconvert_exporter": "python",
   "pygments_lexer": "ipython3",
   "version": "3.7.3"
  }
 },
 "nbformat": 4,
 "nbformat_minor": 4
}
